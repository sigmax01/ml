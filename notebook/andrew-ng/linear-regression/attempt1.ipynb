{
 "cells": [
  {
   "metadata": {},
   "cell_type": "markdown",
   "source": [
    "# 线性回归\n",
    "\n",
    "此Notebook配合Andrew Ng \"Machine Learning\"中线性回归部分学习使用.\n",
    "- 作者: 麦旋风超好吃\n",
    "- 测试用Python版本: 3.12\n",
    "- 机器学习路径: [https://ml.ricolxwz.de/%E7%AE%97%E6%B3%95/%E7%BA%BF%E6%80%A7%E5%9B%9E%E5%BD%92%E6%A8%A1%E5%9E%8B/](https://ml.ricolxwz.de/%E7%AE%97%E6%B3%95/%E7%BA%BF%E6%80%A7%E5%9B%9E%E5%BD%92%E6%A8%A1%E5%9E%8B/)\n",
    "- 参考资料: [https://share.ricolxwz.io/machine-learning/notebook/andrew-ng/ex1_linear_regression.ipynb](https://share.ricolxwz.io/machine-learning/notebook/andrew-ng/ex1_linear_regression.ipynb)\n",
    "- 联络方式: ricol.xwz@outlook.com"
   ],
   "id": "c44608800fd850cd"
  },
  {
   "metadata": {},
   "cell_type": "markdown",
   "source": "## 前期准备",
   "id": "c02e898f8e4a2bca"
  },
  {
   "metadata": {
    "ExecuteTime": {
     "end_time": "2024-07-05T08:32:17.393587Z",
     "start_time": "2024-07-05T08:32:17.391756Z"
    }
   },
   "cell_type": "code",
   "source": [
    "import numpy as np\n",
    "import pandas as pd\n",
    "import matplotlib.pyplot as plt\n",
    "import seaborn as sns\n",
    "\n",
    "from typing import Tuple, List"
   ],
   "id": "315ffb0a26924b92",
   "outputs": [],
   "execution_count": 72
  },
  {
   "metadata": {
    "ExecuteTime": {
     "end_time": "2024-07-05T08:32:17.762028Z",
     "start_time": "2024-07-05T08:32:17.441737Z"
    }
   },
   "cell_type": "code",
   "source": "df = pd.read_csv('https://rshare.ricolxwz.io/machine-learning/dataset/andrew-ng/linear-regression/ex1data1.txt', names=['population', 'profit'])",
   "id": "c6c4ffd6d1d6b2c7",
   "outputs": [],
   "execution_count": 73
  },
  {
   "metadata": {
    "ExecuteTime": {
     "end_time": "2024-07-05T08:32:17.768020Z",
     "start_time": "2024-07-05T08:32:17.763333Z"
    }
   },
   "cell_type": "code",
   "source": "df",
   "id": "7229cb81778661aa",
   "outputs": [
    {
     "data": {
      "text/plain": [
       "    population    profit\n",
       "0       6.1101  17.59200\n",
       "1       5.5277   9.13020\n",
       "2       8.5186  13.66200\n",
       "3       7.0032  11.85400\n",
       "4       5.8598   6.82330\n",
       "..         ...       ...\n",
       "92      5.8707   7.20290\n",
       "93      5.3054   1.98690\n",
       "94      8.2934   0.14454\n",
       "95     13.3940   9.05510\n",
       "96      5.4369   0.61705\n",
       "\n",
       "[97 rows x 2 columns]"
      ],
      "text/html": [
       "<div>\n",
       "<style scoped>\n",
       "    .dataframe tbody tr th:only-of-type {\n",
       "        vertical-align: middle;\n",
       "    }\n",
       "\n",
       "    .dataframe tbody tr th {\n",
       "        vertical-align: top;\n",
       "    }\n",
       "\n",
       "    .dataframe thead th {\n",
       "        text-align: right;\n",
       "    }\n",
       "</style>\n",
       "<table border=\"1\" class=\"dataframe\">\n",
       "  <thead>\n",
       "    <tr style=\"text-align: right;\">\n",
       "      <th></th>\n",
       "      <th>population</th>\n",
       "      <th>profit</th>\n",
       "    </tr>\n",
       "  </thead>\n",
       "  <tbody>\n",
       "    <tr>\n",
       "      <th>0</th>\n",
       "      <td>6.1101</td>\n",
       "      <td>17.59200</td>\n",
       "    </tr>\n",
       "    <tr>\n",
       "      <th>1</th>\n",
       "      <td>5.5277</td>\n",
       "      <td>9.13020</td>\n",
       "    </tr>\n",
       "    <tr>\n",
       "      <th>2</th>\n",
       "      <td>8.5186</td>\n",
       "      <td>13.66200</td>\n",
       "    </tr>\n",
       "    <tr>\n",
       "      <th>3</th>\n",
       "      <td>7.0032</td>\n",
       "      <td>11.85400</td>\n",
       "    </tr>\n",
       "    <tr>\n",
       "      <th>4</th>\n",
       "      <td>5.8598</td>\n",
       "      <td>6.82330</td>\n",
       "    </tr>\n",
       "    <tr>\n",
       "      <th>...</th>\n",
       "      <td>...</td>\n",
       "      <td>...</td>\n",
       "    </tr>\n",
       "    <tr>\n",
       "      <th>92</th>\n",
       "      <td>5.8707</td>\n",
       "      <td>7.20290</td>\n",
       "    </tr>\n",
       "    <tr>\n",
       "      <th>93</th>\n",
       "      <td>5.3054</td>\n",
       "      <td>1.98690</td>\n",
       "    </tr>\n",
       "    <tr>\n",
       "      <th>94</th>\n",
       "      <td>8.2934</td>\n",
       "      <td>0.14454</td>\n",
       "    </tr>\n",
       "    <tr>\n",
       "      <th>95</th>\n",
       "      <td>13.3940</td>\n",
       "      <td>9.05510</td>\n",
       "    </tr>\n",
       "    <tr>\n",
       "      <th>96</th>\n",
       "      <td>5.4369</td>\n",
       "      <td>0.61705</td>\n",
       "    </tr>\n",
       "  </tbody>\n",
       "</table>\n",
       "<p>97 rows × 2 columns</p>\n",
       "</div>"
      ]
     },
     "execution_count": 74,
     "metadata": {},
     "output_type": "execute_result"
    }
   ],
   "execution_count": 74
  },
  {
   "metadata": {
    "ExecuteTime": {
     "end_time": "2024-07-05T08:32:17.772229Z",
     "start_time": "2024-07-05T08:32:17.768678Z"
    }
   },
   "cell_type": "code",
   "source": "df.info()",
   "id": "6cafc7f748b12033",
   "outputs": [
    {
     "name": "stdout",
     "output_type": "stream",
     "text": [
      "<class 'pandas.core.frame.DataFrame'>\n",
      "RangeIndex: 97 entries, 0 to 96\n",
      "Data columns (total 2 columns):\n",
      " #   Column      Non-Null Count  Dtype  \n",
      "---  ------      --------------  -----  \n",
      " 0   population  97 non-null     float64\n",
      " 1   profit      97 non-null     float64\n",
      "dtypes: float64(2)\n",
      "memory usage: 1.6 KB\n"
     ]
    }
   ],
   "execution_count": 75
  },
  {
   "metadata": {
    "ExecuteTime": {
     "end_time": "2024-07-05T08:32:17.778604Z",
     "start_time": "2024-07-05T08:32:17.773540Z"
    }
   },
   "cell_type": "code",
   "source": "df.describe()",
   "id": "c0a6cabf966a00d2",
   "outputs": [
    {
     "data": {
      "text/plain": [
       "       population     profit\n",
       "count   97.000000  97.000000\n",
       "mean     8.159800   5.839135\n",
       "std      3.869884   5.510262\n",
       "min      5.026900  -2.680700\n",
       "25%      5.707700   1.986900\n",
       "50%      6.589400   4.562300\n",
       "75%      8.578100   7.046700\n",
       "max     22.203000  24.147000"
      ],
      "text/html": [
       "<div>\n",
       "<style scoped>\n",
       "    .dataframe tbody tr th:only-of-type {\n",
       "        vertical-align: middle;\n",
       "    }\n",
       "\n",
       "    .dataframe tbody tr th {\n",
       "        vertical-align: top;\n",
       "    }\n",
       "\n",
       "    .dataframe thead th {\n",
       "        text-align: right;\n",
       "    }\n",
       "</style>\n",
       "<table border=\"1\" class=\"dataframe\">\n",
       "  <thead>\n",
       "    <tr style=\"text-align: right;\">\n",
       "      <th></th>\n",
       "      <th>population</th>\n",
       "      <th>profit</th>\n",
       "    </tr>\n",
       "  </thead>\n",
       "  <tbody>\n",
       "    <tr>\n",
       "      <th>count</th>\n",
       "      <td>97.000000</td>\n",
       "      <td>97.000000</td>\n",
       "    </tr>\n",
       "    <tr>\n",
       "      <th>mean</th>\n",
       "      <td>8.159800</td>\n",
       "      <td>5.839135</td>\n",
       "    </tr>\n",
       "    <tr>\n",
       "      <th>std</th>\n",
       "      <td>3.869884</td>\n",
       "      <td>5.510262</td>\n",
       "    </tr>\n",
       "    <tr>\n",
       "      <th>min</th>\n",
       "      <td>5.026900</td>\n",
       "      <td>-2.680700</td>\n",
       "    </tr>\n",
       "    <tr>\n",
       "      <th>25%</th>\n",
       "      <td>5.707700</td>\n",
       "      <td>1.986900</td>\n",
       "    </tr>\n",
       "    <tr>\n",
       "      <th>50%</th>\n",
       "      <td>6.589400</td>\n",
       "      <td>4.562300</td>\n",
       "    </tr>\n",
       "    <tr>\n",
       "      <th>75%</th>\n",
       "      <td>8.578100</td>\n",
       "      <td>7.046700</td>\n",
       "    </tr>\n",
       "    <tr>\n",
       "      <th>max</th>\n",
       "      <td>22.203000</td>\n",
       "      <td>24.147000</td>\n",
       "    </tr>\n",
       "  </tbody>\n",
       "</table>\n",
       "</div>"
      ]
     },
     "execution_count": 76,
     "metadata": {},
     "output_type": "execute_result"
    }
   ],
   "execution_count": 76
  },
  {
   "metadata": {
    "ExecuteTime": {
     "end_time": "2024-07-05T08:32:17.917318Z",
     "start_time": "2024-07-05T08:32:17.779180Z"
    }
   },
   "cell_type": "code",
   "source": "sns.lmplot(x='population', y='profit', data=df, fit_reg=False)",
   "id": "4cabd6decda651b2",
   "outputs": [
    {
     "data": {
      "text/plain": [
       "<seaborn.axisgrid.FacetGrid at 0x12e32fb60>"
      ]
     },
     "execution_count": 77,
     "metadata": {},
     "output_type": "execute_result"
    },
    {
     "data": {
      "text/plain": [
       "<Figure size 500x500 with 1 Axes>"
      ],
      "image/png": "[encoded data removed]"
     },
     "metadata": {},
     "output_type": "display_data"
    }
   ],
   "execution_count": 77
  },
  {
   "metadata": {},
   "cell_type": "markdown",
   "source": [
    "## 预估模型/定义读取函数\n",
    "\n",
    "预估模型为单变量线性回归, 将模型表示为: $h_{\\theta}(x)=\\theta_0+\\theta_1x_1$.\n",
    "\n",
    "为了能够简化公式, 引入$x_0=1$, 将公式转化为$h_{\\theta}(x)=\\theta_0x_0+\\theta_1x_1$, 这个时候一共有2个特征, 2个参数. 用矩阵X表示特征, 用矩阵$\\theta$表示参数, 则有$h_{\\theta}(x)=\\theta^TX$, 其中上标$T$代表转置矩阵.\n",
    "\n",
    "根据上面的思路, 可以写一个读取特征/标签的函数, 附带一个实现特征缩放的函数."
   ],
   "id": "7ebd24d08c6461bc"
  },
  {
   "metadata": {},
   "cell_type": "markdown",
   "source": "### 读取特征函数",
   "id": "5869dc8cd9385ade"
  },
  {
   "metadata": {
    "ExecuteTime": {
     "end_time": "2024-07-05T08:32:17.919852Z",
     "start_time": "2024-07-05T08:32:17.917977Z"
    }
   },
   "cell_type": "code",
   "source": [
    "def get_features(df: pd.DataFrame) -> np.ndarray: # 读取特征(总共2个)\n",
    "    ones = pd.DataFrame({'ones': np.ones(len(df))}) # 生成一个m行1列的DF, 表示x0特征\n",
    "    data = pd.concat([ones, df], axis=1) # 合并x0特征和x1特征\n",
    "    return data.iloc[:, :-1].to_numpy() # 去掉标签之后返回一个numpy数组"
   ],
   "id": "67ea79dea9e2c82f",
   "outputs": [],
   "execution_count": 78
  },
  {
   "metadata": {},
   "cell_type": "markdown",
   "source": "### 读取标签函数",
   "id": "18256ac0a1dc1711"
  },
  {
   "metadata": {
    "ExecuteTime": {
     "end_time": "2024-07-05T08:32:17.922488Z",
     "start_time": "2024-07-05T08:32:17.920503Z"
    }
   },
   "cell_type": "code",
   "source": [
    "def get_label(df: pd.DataFrame) -> np.ndarray:\n",
    "    return df.iloc[:, -1].to_numpy() # 返回标签列"
   ],
   "id": "4a16fa760381a78a",
   "outputs": [],
   "execution_count": 79
  },
  {
   "metadata": {},
   "cell_type": "markdown",
   "source": "### 特征缩放函数",
   "id": "436627c2c0c1f8cb"
  },
  {
   "metadata": {
    "ExecuteTime": {
     "end_time": "2024-07-05T08:32:17.925694Z",
     "start_time": "2024-07-05T08:32:17.923433Z"
    }
   },
   "cell_type": "code",
   "source": [
    "def normalize_feature(df: pd.DataFrame) -> pd.DataFrame:\n",
    "    return df.apply(lambda column: (column - column.mean()) / column.std())"
   ],
   "id": "4558f9fa81eceafc",
   "outputs": [],
   "execution_count": 80
  },
  {
   "metadata": {},
   "cell_type": "markdown",
   "source": [
    "## 计算代价函数\n",
    "\n",
    "$J\\left( \\theta  \\right)=\\frac{1}{2m}\\sum\\limits_{i=1}^{m}{{{\\left( {{h}_{\\theta }}\\left( {{x}^{(i)}} \\right)-{{y}^{(i)}} \\right)}^{2}}}$\n",
    "\n",
    "假设我们有m对样本, n个特征."
   ],
   "id": "fdd10aa0f4543b56"
  },
  {
   "metadata": {
    "ExecuteTime": {
     "end_time": "2024-07-05T08:32:17.929040Z",
     "start_time": "2024-07-05T08:32:17.926243Z"
    }
   },
   "cell_type": "code",
   "source": [
    "data = df\n",
    "X = get_features(data)\n",
    "print(X.shape, type(X))\n",
    "Y = get_label(data)\n",
    "print(Y.shape, type(Y))"
   ],
   "id": "cbdb60356c9f8f2",
   "outputs": [
    {
     "name": "stdout",
     "output_type": "stream",
     "text": [
      "(97, 2) <class 'numpy.ndarray'>\n",
      "(97,) <class 'numpy.ndarray'>\n"
     ]
    }
   ],
   "execution_count": 81
  },
  {
   "metadata": {
    "ExecuteTime": {
     "end_time": "2024-07-05T08:32:17.934307Z",
     "start_time": "2024-07-05T08:32:17.931014Z"
    }
   },
   "cell_type": "code",
   "source": "X",
   "id": "222da76f09989c85",
   "outputs": [
    {
     "data": {
      "text/plain": [
       "array([[ 1.    ,  6.1101],\n",
       "       [ 1.    ,  5.5277],\n",
       "       [ 1.    ,  8.5186],\n",
       "       [ 1.    ,  7.0032],\n",
       "       [ 1.    ,  5.8598],\n",
       "       [ 1.    ,  8.3829],\n",
       "       [ 1.    ,  7.4764],\n",
       "       [ 1.    ,  8.5781],\n",
       "       [ 1.    ,  6.4862],\n",
       "       [ 1.    ,  5.0546],\n",
       "       [ 1.    ,  5.7107],\n",
       "       [ 1.    , 14.164 ],\n",
       "       [ 1.    ,  5.734 ],\n",
       "       [ 1.    ,  8.4084],\n",
       "       [ 1.    ,  5.6407],\n",
       "       [ 1.    ,  5.3794],\n",
       "       [ 1.    ,  6.3654],\n",
       "       [ 1.    ,  5.1301],\n",
       "       [ 1.    ,  6.4296],\n",
       "       [ 1.    ,  7.0708],\n",
       "       [ 1.    ,  6.1891],\n",
       "       [ 1.    , 20.27  ],\n",
       "       [ 1.    ,  5.4901],\n",
       "       [ 1.    ,  6.3261],\n",
       "       [ 1.    ,  5.5649],\n",
       "       [ 1.    , 18.945 ],\n",
       "       [ 1.    , 12.828 ],\n",
       "       [ 1.    , 10.957 ],\n",
       "       [ 1.    , 13.176 ],\n",
       "       [ 1.    , 22.203 ],\n",
       "       [ 1.    ,  5.2524],\n",
       "       [ 1.    ,  6.5894],\n",
       "       [ 1.    ,  9.2482],\n",
       "       [ 1.    ,  5.8918],\n",
       "       [ 1.    ,  8.2111],\n",
       "       [ 1.    ,  7.9334],\n",
       "       [ 1.    ,  8.0959],\n",
       "       [ 1.    ,  5.6063],\n",
       "       [ 1.    , 12.836 ],\n",
       "       [ 1.    ,  6.3534],\n",
       "       [ 1.    ,  5.4069],\n",
       "       [ 1.    ,  6.8825],\n",
       "       [ 1.    , 11.708 ],\n",
       "       [ 1.    ,  5.7737],\n",
       "       [ 1.    ,  7.8247],\n",
       "       [ 1.    ,  7.0931],\n",
       "       [ 1.    ,  5.0702],\n",
       "       [ 1.    ,  5.8014],\n",
       "       [ 1.    , 11.7   ],\n",
       "       [ 1.    ,  5.5416],\n",
       "       [ 1.    ,  7.5402],\n",
       "       [ 1.    ,  5.3077],\n",
       "       [ 1.    ,  7.4239],\n",
       "       [ 1.    ,  7.6031],\n",
       "       [ 1.    ,  6.3328],\n",
       "       [ 1.    ,  6.3589],\n",
       "       [ 1.    ,  6.2742],\n",
       "       [ 1.    ,  5.6397],\n",
       "       [ 1.    ,  9.3102],\n",
       "       [ 1.    ,  9.4536],\n",
       "       [ 1.    ,  8.8254],\n",
       "       [ 1.    ,  5.1793],\n",
       "       [ 1.    , 21.279 ],\n",
       "       [ 1.    , 14.908 ],\n",
       "       [ 1.    , 18.959 ],\n",
       "       [ 1.    ,  7.2182],\n",
       "       [ 1.    ,  8.2951],\n",
       "       [ 1.    , 10.236 ],\n",
       "       [ 1.    ,  5.4994],\n",
       "       [ 1.    , 20.341 ],\n",
       "       [ 1.    , 10.136 ],\n",
       "       [ 1.    ,  7.3345],\n",
       "       [ 1.    ,  6.0062],\n",
       "       [ 1.    ,  7.2259],\n",
       "       [ 1.    ,  5.0269],\n",
       "       [ 1.    ,  6.5479],\n",
       "       [ 1.    ,  7.5386],\n",
       "       [ 1.    ,  5.0365],\n",
       "       [ 1.    , 10.274 ],\n",
       "       [ 1.    ,  5.1077],\n",
       "       [ 1.    ,  5.7292],\n",
       "       [ 1.    ,  5.1884],\n",
       "       [ 1.    ,  6.3557],\n",
       "       [ 1.    ,  9.7687],\n",
       "       [ 1.    ,  6.5159],\n",
       "       [ 1.    ,  8.5172],\n",
       "       [ 1.    ,  9.1802],\n",
       "       [ 1.    ,  6.002 ],\n",
       "       [ 1.    ,  5.5204],\n",
       "       [ 1.    ,  5.0594],\n",
       "       [ 1.    ,  5.7077],\n",
       "       [ 1.    ,  7.6366],\n",
       "       [ 1.    ,  5.8707],\n",
       "       [ 1.    ,  5.3054],\n",
       "       [ 1.    ,  8.2934],\n",
       "       [ 1.    , 13.394 ],\n",
       "       [ 1.    ,  5.4369]])"
      ]
     },
     "execution_count": 82,
     "metadata": {},
     "output_type": "execute_result"
    }
   ],
   "execution_count": 82
  },
  {
   "metadata": {
    "ExecuteTime": {
     "end_time": "2024-07-05T08:32:17.938368Z",
     "start_time": "2024-07-05T08:32:17.935384Z"
    }
   },
   "cell_type": "code",
   "source": "Y",
   "id": "89af4c8f7ae2349d",
   "outputs": [
    {
     "data": {
      "text/plain": [
       "array([17.592  ,  9.1302 , 13.662  , 11.854  ,  6.8233 , 11.886  ,\n",
       "        4.3483 , 12.     ,  6.5987 ,  3.8166 ,  3.2522 , 15.505  ,\n",
       "        3.1551 ,  7.2258 ,  0.71618,  3.5129 ,  5.3048 ,  0.56077,\n",
       "        3.6518 ,  5.3893 ,  3.1386 , 21.767  ,  4.263  ,  5.1875 ,\n",
       "        3.0825 , 22.638  , 13.501  ,  7.0467 , 14.692  , 24.147  ,\n",
       "       -1.22   ,  5.9966 , 12.134  ,  1.8495 ,  6.5426 ,  4.5623 ,\n",
       "        4.1164 ,  3.3928 , 10.117  ,  5.4974 ,  0.55657,  3.9115 ,\n",
       "        5.3854 ,  2.4406 ,  6.7318 ,  1.0463 ,  5.1337 ,  1.844  ,\n",
       "        8.0043 ,  1.0179 ,  6.7504 ,  1.8396 ,  4.2885 ,  4.9981 ,\n",
       "        1.4233 , -1.4211 ,  2.4756 ,  4.6042 ,  3.9624 ,  5.4141 ,\n",
       "        5.1694 , -0.74279, 17.929  , 12.054  , 17.054  ,  4.8852 ,\n",
       "        5.7442 ,  7.7754 ,  1.0173 , 20.992  ,  6.6799 ,  4.0259 ,\n",
       "        1.2784 ,  3.3411 , -2.6807 ,  0.29678,  3.8845 ,  5.7014 ,\n",
       "        6.7526 ,  2.0576 ,  0.47953,  0.20421,  0.67861,  7.5435 ,\n",
       "        5.3436 ,  4.2415 ,  6.7981 ,  0.92695,  0.152  ,  2.8214 ,\n",
       "        1.8451 ,  4.2959 ,  7.2029 ,  1.9869 ,  0.14454,  9.0551 ,\n",
       "        0.61705])"
      ]
     },
     "execution_count": 83,
     "metadata": {},
     "output_type": "execute_result"
    }
   ],
   "execution_count": 83
  },
  {
   "metadata": {},
   "cell_type": "markdown",
   "source": [
    "需要传入一个参数数组θ, 与特征进行点击运算, 然后得到的预估值与实际值平方, 对于m对样本, 累加m次平方后的数据然后除以2m.\n",
    "\n",
    "现在指定参数数组的起始状态为0, 0, 这个就是下山的起始位置."
   ],
   "id": "a84b930a7efdfe1f"
  },
  {
   "metadata": {
    "ExecuteTime": {
     "end_time": "2024-07-05T08:32:17.941099Z",
     "start_time": "2024-07-05T08:32:17.939333Z"
    }
   },
   "cell_type": "code",
   "source": [
    "theta = np.zeros(X.shape[1]) # theta的列数需要等于特征的数量, 即n\n",
    "print(theta)"
   ],
   "id": "787d7fc116c90e13",
   "outputs": [
    {
     "name": "stdout",
     "output_type": "stream",
     "text": [
      "[0. 0.]\n"
     ]
    }
   ],
   "execution_count": 84
  },
  {
   "metadata": {
    "ExecuteTime": {
     "end_time": "2024-07-05T08:32:17.943919Z",
     "start_time": "2024-07-05T08:32:17.941577Z"
    }
   },
   "cell_type": "code",
   "source": [
    "def lr_cost(theta: np.ndarray, X: np.ndarray, Y: np.ndarray) -> np.float64:\n",
    "    m = X.shape[0] # 取得样本数量\n",
    "    inner = X @ theta - Y # X形状为(m, n), theta形状为(n, ),  点积之后的形状是(m, )\n",
    "    square_sum = inner @ inner # 求平方操作\n",
    "    cost = square_sum / (2 * m)\n",
    "    return cost"
   ],
   "id": "21eb5964e0167f5f",
   "outputs": [],
   "execution_count": 85
  },
  {
   "metadata": {
    "ExecuteTime": {
     "end_time": "2024-07-05T08:32:17.946460Z",
     "start_time": "2024-07-05T08:32:17.944364Z"
    }
   },
   "cell_type": "code",
   "source": "lr_cost(theta, X, Y)",
   "id": "3f8a41a5417745e3",
   "outputs": [
    {
     "data": {
      "text/plain": [
       "np.float64(32.072733877455676)"
      ]
     },
     "execution_count": 86,
     "metadata": {},
     "output_type": "execute_result"
    }
   ],
   "execution_count": 86
  },
  {
   "metadata": {},
   "cell_type": "markdown",
   "source": [
    "## 批量梯度下降\n",
    "\n",
    "$\\begin{aligned}{{\\theta }_{j}} &:={{\\theta }_{j}}-\\alpha \\frac{\\partial }{\\partial {{\\theta }_{j}}}J\\left( \\theta  \\right) \\\\ &:= {{\\theta }_{j}}-\\alpha \\frac{1}{m} \\sum^{m}_{i=1}\\left( h_\\theta \\left(x^{(i)}\\right) -y^{(i)}  \\right)x^{(i)}_j \\end{aligned}$\n",
    "\n",
    "注意: 对于所有的j, 需要同时更新θj"
   ],
   "id": "9e0887781787f14c"
  },
  {
   "metadata": {},
   "cell_type": "markdown",
   "source": "### 梯度函数",
   "id": "1c6962e41c23b828"
  },
  {
   "metadata": {
    "ExecuteTime": {
     "end_time": "2024-07-05T08:32:17.948668Z",
     "start_time": "2024-07-05T08:32:17.946895Z"
    }
   },
   "cell_type": "code",
   "source": [
    "def gradient(theta: np.ndarray, X: np.ndarray, Y: np.ndarray) -> np.ndarray:\n",
    "    \"\"\"\n",
    "    计算梯度, 也就是J(θ)的偏导数\n",
    "    \"\"\"\n",
    "    m = X.shape[0]\n",
    "    inner = X.T @ (X @ theta - Y) # (m, n).T = (n, m); (n, m) @ (m, ) -> (n, )\n",
    "    return inner / m"
   ],
   "id": "777d64d1f1601900",
   "outputs": [],
   "execution_count": 87
  },
  {
   "metadata": {},
   "cell_type": "markdown",
   "source": "### 批量梯度下降函数",
   "id": "dc201211328a25a6"
  },
  {
   "metadata": {
    "ExecuteTime": {
     "end_time": "2024-07-05T08:32:17.951305Z",
     "start_time": "2024-07-05T08:32:17.949225Z"
    }
   },
   "cell_type": "code",
   "source": [
    "def batch_gradient_decent(theta: np.ndarray, X: np.ndarray, Y: np.ndarray, epoch: int, alpha: float = 0.01) -> Tuple[np.ndarray, List[np.float64]]:\n",
    "    \"\"\"\n",
    "    :param epoch: 批处理的轮数\n",
    "    :param alpha: 学习率\n",
    "    \"\"\"\n",
    "    cost_data = [lr_cost(theta, X, Y)] # 该参数用于记录梯度下降中cost的变化\n",
    "    _theta = theta.copy() # 拷贝一份, 不和原来的theta混淆\n",
    "    for _ in range(epoch):\n",
    "        _theta = _theta - alpha * gradient(_theta, X, Y) # 批量梯度下降, 所有的参数同时更新\n",
    "        cost_data.append(lr_cost(_theta, X, Y)) # 计算梯度下降后的cost, 记录在cost_data中\n",
    "    return _theta, cost_data"
   ],
   "id": "ae9795aa1b12e4e1",
   "outputs": [],
   "execution_count": 88
  },
  {
   "metadata": {},
   "cell_type": "markdown",
   "source": [
    "### 执行批量梯度下降\n",
    "\n",
    "这里, 我们指定批处理500次, 这是因为500次之后, 我们认为已经接近局部极小值, 两个偏导数趋近于0."
   ],
   "id": "d83a6ca8ac558609"
  },
  {
   "metadata": {
    "ExecuteTime": {
     "end_time": "2024-07-05T08:32:17.955817Z",
     "start_time": "2024-07-05T08:32:17.951793Z"
    }
   },
   "cell_type": "code",
   "source": [
    "epoch = 500 # 指定批处理500次\n",
    "final_theta, cost_data = batch_gradient_decent(theta, X, Y, epoch)"
   ],
   "id": "5c7c2cba5d3ee63f",
   "outputs": [],
   "execution_count": 89
  },
  {
   "metadata": {},
   "cell_type": "markdown",
   "source": "#### 看一下最终的参数数组",
   "id": "90d9e73704b1f316"
  },
  {
   "metadata": {
    "ExecuteTime": {
     "end_time": "2024-07-05T08:32:17.958470Z",
     "start_time": "2024-07-05T08:32:17.956256Z"
    }
   },
   "cell_type": "code",
   "source": "final_theta",
   "id": "cef537c2251d2f3b",
   "outputs": [
    {
     "data": {
      "text/plain": [
       "array([-2.28286727,  1.03099898])"
      ]
     },
     "execution_count": 90,
     "metadata": {},
     "output_type": "execute_result"
    }
   ],
   "execution_count": 90
  },
  {
   "metadata": {},
   "cell_type": "markdown",
   "source": [
    "#### 看一下cost的变化过程\n",
    "\n",
    "可以看到在过程中, cost是不断下降的, 也就是不断下山. 一开始的cost是32.072733877455676, 最后的cost是4.7138095311168655."
   ],
   "id": "4e672902a18dac9c"
  },
  {
   "metadata": {
    "ExecuteTime": {
     "end_time": "2024-07-05T08:32:17.962210Z",
     "start_time": "2024-07-05T08:32:17.958937Z"
    }
   },
   "cell_type": "code",
   "source": "cost_data",
   "id": "82b353dd2fc6381e",
   "outputs": [
    {
     "data": {
      "text/plain": [
       "[np.float64(32.072733877455676),\n",
       " np.float64(6.737190464870009),\n",
       " np.float64(5.9315935686049555),\n",
       " np.float64(5.901154707081388),\n",
       " np.float64(5.895228586444221),\n",
       " np.float64(5.890094943117332),\n",
       " np.float64(5.885004158443646),\n",
       " np.float64(5.8799324804914175),\n",
       " np.float64(5.874879094762575),\n",
       " np.float64(5.869843911806388),\n",
       " np.float64(5.8648268653129305),\n",
       " np.float64(5.859827889932181),\n",
       " np.float64(5.854846920572289),\n",
       " np.float64(5.849883892376587),\n",
       " np.float64(5.844938740722034),\n",
       " np.float64(5.840011401218361),\n",
       " np.float64(5.835101809707226),\n",
       " np.float64(5.830209902261388),\n",
       " np.float64(5.825335615183862),\n",
       " np.float64(5.820478885007099),\n",
       " np.float64(5.815639648492152),\n",
       " np.float64(5.810817842627869),\n",
       " np.float64(5.806013404630044),\n",
       " np.float64(5.80122627194063),\n",
       " np.float64(5.796456382226899),\n",
       " np.float64(5.791703673380653),\n",
       " np.float64(5.786968083517396),\n",
       " np.float64(5.782249550975539),\n",
       " np.float64(5.777548014315596),\n",
       " np.float64(5.772863412319382),\n",
       " np.float64(5.768195683989212),\n",
       " np.float64(5.76354476854712),\n",
       " np.float64(5.758910605434049),\n",
       " np.float64(5.754293134309077),\n",
       " np.float64(5.749692295048629),\n",
       " np.float64(5.745108027745684),\n",
       " np.float64(5.740540272709012),\n",
       " np.float64(5.735988970462381),\n",
       " np.float64(5.731454061743792),\n",
       " np.float64(5.7269354875047),\n",
       " np.float64(5.722433188909257),\n",
       " np.float64(5.717947107333529),\n",
       " np.float64(5.71347718436475),\n",
       " np.float64(5.709023361800549),\n",
       " np.float64(5.704585581648199),\n",
       " np.float64(5.700163786123856),\n",
       " np.float64(5.6957579176518145),\n",
       " np.float64(5.691367918863752),\n",
       " np.float64(5.68699373259798),\n",
       " np.float64(5.682635301898707),\n",
       " np.float64(5.678292570015292),\n",
       " np.float64(5.673965480401506),\n",
       " np.float64(5.669653976714796),\n",
       " np.float64(5.6653580028155535),\n",
       " np.float64(5.661077502766379),\n",
       " np.float64(5.656812420831359),\n",
       " np.float64(5.6525627014753335),\n",
       " np.float64(5.648328289363181),\n",
       " np.float64(5.644109129359092),\n",
       " np.float64(5.639905166525856),\n",
       " np.float64(5.635716346124137),\n",
       " np.float64(5.631542613611772),\n",
       " np.float64(5.627383914643055),\n",
       " np.float64(5.623240195068026),\n",
       " np.float64(5.619111400931778),\n",
       " np.float64(5.61499747847374),\n",
       " np.float64(5.610898374126984),\n",
       " np.float64(5.606814034517532),\n",
       " np.float64(5.602744406463646),\n",
       " np.float64(5.598689436975159),\n",
       " np.float64(5.59464907325276),\n",
       " np.float64(5.590623262687323),\n",
       " np.float64(5.586611952859217),\n",
       " np.float64(5.5826150915376225),\n",
       " np.float64(5.5786326266798545),\n",
       " np.float64(5.574664506430677),\n",
       " np.float64(5.570710679121643),\n",
       " np.float64(5.566771093270403),\n",
       " np.float64(5.562845697580051),\n",
       " np.float64(5.558934440938442),\n",
       " np.float64(5.555037272417544),\n",
       " np.float64(5.551154141272755),\n",
       " np.float64(5.547284996942256),\n",
       " np.float64(5.543429789046352),\n",
       " np.float64(5.539588467386808),\n",
       " np.float64(5.535760981946204),\n",
       " np.float64(5.531947282887275),\n",
       " np.float64(5.5281473205522715),\n",
       " np.float64(5.524361045462306),\n",
       " np.float64(5.520588408316715),\n",
       " np.float64(5.5168293599924025),\n",
       " np.float64(5.513083851543224),\n",
       " np.float64(5.5093518341993315),\n",
       " np.float64(5.5056332593665385),\n",
       " np.float64(5.501928078625699),\n",
       " np.float64(5.498236243732064),\n",
       " np.float64(5.494557706614665),\n",
       " np.float64(5.490892419375678),\n",
       " np.float64(5.487240334289805),\n",
       " np.float64(5.483601403803651),\n",
       " np.float64(5.479975580535112),\n",
       " np.float64(5.476362817272741),\n",
       " np.float64(5.472763066975153),\n",
       " np.float64(5.469176282770399),\n",
       " np.float64(5.465602417955358),\n",
       " np.float64(5.462041425995138),\n",
       " np.float64(5.4584932605224585),\n",
       " np.float64(5.454957875337048),\n",
       " np.float64(5.451435224405051),\n",
       " np.float64(5.447925261858424),\n",
       " np.float64(5.444427941994333),\n",
       " np.float64(5.4409432192745655),\n",
       " np.float64(5.437471048324933),\n",
       " np.float64(5.434011383934687),\n",
       " np.float64(5.430564181055919),\n",
       " np.float64(5.427129394802987),\n",
       " np.float64(5.423706980451918),\n",
       " np.float64(5.420296893439839),\n",
       " np.float64(5.4168990893643825),\n",
       " np.float64(5.413513523983123),\n",
       " np.float64(5.410140153212988),\n",
       " np.float64(5.406778933129694),\n",
       " np.float64(5.403429819967165),\n",
       " np.float64(5.400092770116975),\n",
       " np.float64(5.396767740127768),\n",
       " np.float64(5.393454686704697),\n",
       " np.float64(5.390153566708862),\n",
       " np.float64(5.386864337156746),\n",
       " np.float64(5.383586955219661),\n",
       " np.float64(5.380321378223178),\n",
       " np.float64(5.377067563646582),\n",
       " np.float64(5.373825469122317),\n",
       " np.float64(5.37059505243543),\n",
       " np.float64(5.3673762715230255),\n",
       " np.float64(5.364169084473712),\n",
       " np.float64(5.360973449527068),\n",
       " np.float64(5.357789325073084),\n",
       " np.float64(5.354616669651634),\n",
       " np.float64(5.351455441951917),\n",
       " np.float64(5.348305600811943),\n",
       " np.float64(5.345167105217981),\n",
       " np.float64(5.34203991430403),\n",
       " np.float64(5.338923987351282),\n",
       " np.float64(5.335819283787603),\n",
       " np.float64(5.332725763186988),\n",
       " np.float64(5.329643385269055),\n",
       " np.float64(5.326572109898499),\n",
       " np.float64(5.323511897084587),\n",
       " np.float64(5.32046270698063),\n",
       " np.float64(5.317424499883461),\n",
       " np.float64(5.314397236232924),\n",
       " np.float64(5.311380876611354),\n",
       " np.float64(5.3083753817430726),\n",
       " np.float64(5.305380712493861),\n",
       " np.float64(5.302396829870465),\n",
       " np.float64(5.2994236950200815),\n",
       " np.float64(5.296461269229852),\n",
       " np.float64(5.293509513926361),\n",
       " np.float64(5.290568390675129),\n",
       " np.float64(5.287637861180119),\n",
       " np.float64(5.284717887283232),\n",
       " np.float64(5.281808430963812),\n",
       " np.float64(5.278909454338152),\n",
       " np.float64(5.276020919659001),\n",
       " np.float64(5.27314278931507),\n",
       " np.float64(5.270275025830544),\n",
       " np.float64(5.267417591864593),\n",
       " np.float64(5.264570450210885),\n",
       " np.float64(5.26173356379711),\n",
       " np.float64(5.2589068956844836),\n",
       " np.float64(5.256090409067274),\n",
       " np.float64(5.253284067272322),\n",
       " np.float64(5.250487833758564),\n",
       " np.float64(5.2477016721165555),\n",
       " np.float64(5.244925546067995),\n",
       " np.float64(5.242159419465252),\n",
       " np.float64(5.2394032562909025),\n",
       " np.float64(5.236657020657252),\n",
       " np.float64(5.2339206768058695),\n",
       " np.float64(5.2311941891071285),\n",
       " np.float64(5.228477522059737),\n",
       " np.float64(5.225770640290271),\n",
       " np.float64(5.223073508552729),\n",
       " np.float64(5.220386091728056),\n",
       " np.float64(5.217708354823697),\n",
       " np.float64(5.215040262973137),\n",
       " np.float64(5.212381781435449),\n",
       " np.float64(5.2097328755948435),\n",
       " np.float64(5.207093510960209),\n",
       " np.float64(5.204463653164672),\n",
       " np.float64(5.20184326796515),\n",
       " np.float64(5.199232321241896),\n",
       " np.float64(5.196630778998063),\n",
       " np.float64(5.19403860735926),\n",
       " np.float64(5.191455772573107),\n",
       " np.float64(5.188882241008802),\n",
       " np.float64(5.186317979156676),\n",
       " np.float64(5.183762953627759),\n",
       " np.float64(5.181217131153349),\n",
       " np.float64(5.1786804785845755),\n",
       " np.float64(5.176152962891966),\n",
       " np.float64(5.173634551165023),\n",
       " np.float64(5.171125210611782),\n",
       " np.float64(5.168624908558404),\n",
       " np.float64(5.166133612448731),\n",
       " np.float64(5.163651289843876),\n",
       " np.float64(5.161177908421789),\n",
       " np.float64(5.15871343597685),\n",
       " np.float64(5.156257840419434),\n",
       " np.float64(5.153811089775505),\n",
       " np.float64(5.151373152186197),\n",
       " np.float64(5.148943995907395),\n",
       " np.float64(5.146523589309323),\n",
       " np.float64(5.144111900876139),\n",
       " np.float64(5.141708899205516),\n",
       " np.float64(5.139314553008234),\n",
       " np.float64(5.136928831107778),\n",
       " np.float64(5.134551702439932),\n",
       " np.float64(5.132183136052365),\n",
       " np.float64(5.129823101104237),\n",
       " np.float64(5.127471566865799),\n",
       " np.float64(5.12512850271798),\n",
       " np.float64(5.122793878152007),\n",
       " np.float64(5.120467662768991),\n",
       " np.float64(5.118149826279542),\n",
       " np.float64(5.115840338503368),\n",
       " np.float64(5.1135391693688845),\n",
       " np.float64(5.111246288912825),\n",
       " np.float64(5.108961667279847),\n",
       " np.float64(5.10668527472215),\n",
       " np.float64(5.104417081599076),\n",
       " np.float64(5.1021570583767355),\n",
       " np.float64(5.099905175627619),\n",
       " np.float64(5.097661404030211),\n",
       " np.float64(5.095425714368609),\n",
       " np.float64(5.093198077532151),\n",
       " np.float64(5.090978464515021),\n",
       " np.float64(5.088766846415888),\n",
       " np.float64(5.086563194437517),\n",
       " np.float64(5.0843674798864),\n",
       " np.float64(5.082179674172386),\n",
       " np.float64(5.079999748808297),\n",
       " np.float64(5.077827675409567),\n",
       " np.float64(5.075663425693873),\n",
       " np.float64(5.0735069714807555),\n",
       " np.float64(5.071358284691268),\n",
       " np.float64(5.069217337347596),\n",
       " np.float64(5.067084101572705),\n",
       " np.float64(5.064958549589968),\n",
       " np.float64(5.06284065372281),\n",
       " np.float64(5.060730386394342),\n",
       " np.float64(5.05862772012701),\n",
       " np.float64(5.056532627542231),\n",
       " np.float64(5.054445081360036),\n",
       " np.float64(5.052365054398719),\n",
       " np.float64(5.050292519574479),\n",
       " np.float64(5.0482274499010735),\n",
       " np.float64(5.0461698184894574),\n",
       " np.float64(5.044119598547442),\n",
       " np.float64(5.042076763379342),\n",
       " np.float64(5.040041286385627),\n",
       " np.float64(5.038013141062576),\n",
       " np.float64(5.035992301001939),\n",
       " np.float64(5.0339787398905775),\n",
       " np.float64(5.031972431510141),\n",
       " np.float64(5.029973349736707),\n",
       " np.float64(5.027981468540455),\n",
       " np.float64(5.025996761985323),\n",
       " np.float64(5.024019204228667),\n",
       " np.float64(5.022048769520928),\n",
       " np.float64(5.020085432205293),\n",
       " np.float64(5.018129166717368),\n",
       " np.float64(5.016179947584835),\n",
       " np.float64(5.01423774942713),\n",
       " np.float64(5.012302546955106),\n",
       " np.float64(5.010374314970709),\n",
       " np.float64(5.008453028366643),\n",
       " np.float64(5.006538662126048),\n",
       " np.float64(5.004631191322175),\n",
       " np.float64(5.002730591118061),\n",
       " np.float64(5.0008368367662),\n",
       " np.float64(4.998949903608226),\n",
       " np.float64(4.997069767074595),\n",
       " np.float64(4.995196402684257),\n",
       " np.float64(4.993329786044343),\n",
       " np.float64(4.991469892849844),\n",
       " np.float64(4.989616698883302),\n",
       " np.float64(4.987770180014479),\n",
       " np.float64(4.98593031220006),\n",
       " np.float64(4.984097071483333),\n",
       " np.float64(4.982270433993871),\n",
       " np.float64(4.9804503759472345),\n",
       " np.float64(4.978636873644648),\n",
       " np.float64(4.9768299034727),\n",
       " np.float64(4.975029441903032),\n",
       " np.float64(4.973235465492034),\n",
       " np.float64(4.971447950880541),\n",
       " np.float64(4.969666874793522),\n",
       " np.float64(4.967892214039784),\n",
       " np.float64(4.966123945511668),\n",
       " np.float64(4.964362046184744),\n",
       " np.float64(4.962606493117519),\n",
       " np.float64(4.960857263451131),\n",
       " np.float64(4.959114334409055),\n",
       " np.float64(4.957377683296803),\n",
       " np.float64(4.955647287501639),\n",
       " np.float64(4.95392312449227),\n",
       " np.float64(4.9522051718185605),\n",
       " np.float64(4.95049340711124),\n",
       " np.float64(4.948787808081612),\n",
       " np.float64(4.9470883525212574),\n",
       " np.float64(4.94539501830176),\n",
       " np.float64(4.943707783374398),\n",
       " np.float64(4.942026625769878),\n",
       " np.float64(4.9403515235980295),\n",
       " np.float64(4.938682455047537),\n",
       " np.float64(4.937019398385641),\n",
       " np.float64(4.93536233195787),\n",
       " np.float64(4.933711234187743),\n",
       " np.float64(4.932066083576499),\n",
       " np.float64(4.930426858702819),\n",
       " np.float64(4.928793538222535),\n",
       " np.float64(4.927166100868362),\n",
       " np.float64(4.925544525449624),\n",
       " np.float64(4.923928790851963),\n",
       " np.float64(4.922318876037079),\n",
       " np.float64(4.920714760042453),\n",
       " np.float64(4.919116421981067),\n",
       " np.float64(4.91752384104114),\n",
       " np.float64(4.915936996485852),\n",
       " np.float64(4.914355867653076),\n",
       " np.float64(4.912780433955112),\n",
       " np.float64(4.911210674878411),\n",
       " np.float64(4.9096465699833125),\n",
       " np.float64(4.908088098903784),\n",
       " np.float64(4.906535241347147),\n",
       " np.float64(4.904987977093815),\n",
       " np.float64(4.903446285997032),\n",
       " np.float64(4.90191014798261),\n",
       " np.float64(4.9003795430486665),\n",
       " np.float64(4.898854451265366),\n",
       " np.float64(4.897334852774657),\n",
       " np.float64(4.895820727790017),\n",
       " np.float64(4.894312056596192),\n",
       " np.float64(4.892808819548945),\n",
       " np.float64(4.89131099707479),\n",
       " np.float64(4.889818569670749),\n",
       " np.float64(4.888331517904091),\n",
       " np.float64(4.886849822412081),\n",
       " np.float64(4.885373463901725),\n",
       " np.float64(4.883902423149524),\n",
       " np.float64(4.88243668100122),\n",
       " np.float64(4.880976218371548),\n",
       " np.float64(4.879521016243986),\n",
       " np.float64(4.8780710556705085),\n",
       " np.float64(4.876626317771342),\n",
       " np.float64(4.875186783734713),\n",
       " np.float64(4.87375243481661),\n",
       " np.float64(4.872323252340536),\n",
       " np.float64(4.870899217697262),\n",
       " np.float64(4.869480312344594),\n",
       " np.float64(4.868066517807122),\n",
       " np.float64(4.866657815675987),\n",
       " np.float64(4.865254187608632),\n",
       " np.float64(4.863855615328575),\n",
       " np.float64(4.862462080625159),\n",
       " np.float64(4.861073565353326),\n",
       " np.float64(4.859690051433371),\n",
       " np.float64(4.858311520850716),\n",
       " np.float64(4.856937955655664),\n",
       " np.float64(4.855569337963179),\n",
       " np.float64(4.85420564995264),\n",
       " np.float64(4.852846873867617),\n",
       " np.float64(4.851492992015639),\n",
       " np.float64(4.850143986767962),\n",
       " np.float64(4.8487998405593355),\n",
       " np.float64(4.847460535887785),\n",
       " np.float64(4.846126055314369),\n",
       " np.float64(4.8447963814629675),\n",
       " np.float64(4.843471497020046),\n",
       " np.float64(4.842151384734428),\n",
       " np.float64(4.8408360274170805),\n",
       " np.float64(4.839525407940883),\n",
       " np.float64(4.838219509240405),\n",
       " np.float64(4.836918314311681),\n",
       " np.float64(4.835621806212003),\n",
       " np.float64(4.834329968059677),\n",
       " np.float64(4.833042783033827),\n",
       " np.float64(4.8317602343741575),\n",
       " np.float64(4.830482305380744),\n",
       " np.float64(4.829208979413818),\n",
       " np.float64(4.8279402398935405),\n",
       " np.float64(4.826676070299798),\n",
       " np.float64(4.82541645417198),\n",
       " np.float64(4.824161375108761),\n",
       " np.float64(4.822910816767899),\n",
       " np.float64(4.821664762866011),\n",
       " np.float64(4.82042319717837),\n",
       " np.float64(4.819186103538688),\n",
       " np.float64(4.817953465838902),\n",
       " np.float64(4.816725268028978),\n",
       " np.float64(4.815501494116686),\n",
       " np.float64(4.814282128167403),\n",
       " np.float64(4.813067154303901),\n",
       " np.float64(4.811856556706141),\n",
       " np.float64(4.810650319611066),\n",
       " np.float64(4.809448427312395),\n",
       " np.float64(4.808250864160425),\n",
       " np.float64(4.807057614561818),\n",
       " np.float64(4.805868662979403),\n",
       " np.float64(4.804683993931976),\n",
       " np.float64(4.80350359199409),\n",
       " np.float64(4.802327441795866),\n",
       " np.float64(4.80115552802278),\n",
       " np.float64(4.799987835415476),\n",
       " np.float64(4.798824348769555),\n",
       " np.float64(4.797665052935391),\n",
       " np.float64(4.796509932817918),\n",
       " np.float64(4.795358973376449),\n",
       " np.float64(4.794212159624466),\n",
       " np.float64(4.793069476629437),\n",
       " np.float64(4.791930909512613),\n",
       " np.float64(4.790796443448837),\n",
       " np.float64(4.789666063666354),\n",
       " np.float64(4.788539755446615),\n",
       " np.float64(4.787417504124085),\n",
       " np.float64(4.786299295086054),\n",
       " np.float64(4.785185113772447),\n",
       " np.float64(4.784074945675635),\n",
       " np.float64(4.7829687763402395),\n",
       " np.float64(4.781866591362954),\n",
       " np.float64(4.780768376392351),\n",
       " np.float64(4.779674117128695),\n",
       " np.float64(4.778583799323759),\n",
       " np.float64(4.777497408780634),\n",
       " np.float64(4.7764149313535516),\n",
       " np.float64(4.775336352947692),\n",
       " np.float64(4.7742616595190075),\n",
       " np.float64(4.773190837074032),\n",
       " np.float64(4.772123871669708),\n",
       " np.float64(4.771060749413196),\n",
       " np.float64(4.770001456461701),\n",
       " np.float64(4.768945979022286),\n",
       " np.float64(4.767894303351698),\n",
       " np.float64(4.766846415756183),\n",
       " np.float64(4.765802302591315),\n",
       " np.float64(4.764761950261813),\n",
       " np.float64(4.763725345221363),\n",
       " np.float64(4.762692473972447),\n",
       " np.float64(4.761663323066164),\n",
       " np.float64(4.760637879102053),\n",
       " np.float64(4.7596161287279255),\n",
       " np.float64(4.75859805863968),\n",
       " np.float64(4.757583655581141),\n",
       " np.float64(4.7565729063438775),\n",
       " np.float64(4.755565797767038),\n",
       " np.float64(4.7545623167371724),\n",
       " np.float64(4.753562450188067),\n",
       " np.float64(4.752566185100569),\n",
       " np.float64(4.751573508502425),\n",
       " np.float64(4.750584407468098),\n",
       " np.float64(4.7495988691186195),\n",
       " np.float64(4.748616880621399),\n",
       " np.float64(4.7476384291900775),\n",
       " np.float64(4.7466635020843455),\n",
       " np.float64(4.745692086609786),\n",
       " np.float64(4.744724170117706),\n",
       " np.float64(4.743759740004974),\n",
       " np.float64(4.74279878371385),\n",
       " np.float64(4.741841288731833),\n",
       " np.float64(4.740887242591483),\n",
       " np.float64(4.739936632870274),\n",
       " np.float64(4.738989447190423),\n",
       " np.float64(4.7380456732187275),\n",
       " np.float64(4.737105298666416),\n",
       " np.float64(4.736168311288972),\n",
       " np.float64(4.735234698885989),\n",
       " np.float64(4.734304449301005),\n",
       " np.float64(4.733377550421341),\n",
       " np.float64(4.732453990177952),\n",
       " np.float64(4.731533756545262),\n",
       " np.float64(4.73061683754101),\n",
       " np.float64(4.729703221226098),\n",
       " np.float64(4.728792895704427),\n",
       " np.float64(4.727885849122752),\n",
       " np.float64(4.72698206967052),\n",
       " np.float64(4.726081545579717),\n",
       " np.float64(4.725184265124722),\n",
       " np.float64(4.724290216622143),\n",
       " np.float64(4.7233993884306775),\n",
       " np.float64(4.722511768950946),\n",
       " np.float64(4.721627346625359),\n",
       " np.float64(4.7207461099379495),\n",
       " np.float64(4.7198680474142325),\n",
       " np.float64(4.718993147621053),\n",
       " np.float64(4.7181213991664395),\n",
       " np.float64(4.717252790699452),\n",
       " np.float64(4.716387310910036),\n",
       " np.float64(4.715524948528875),\n",
       " np.float64(4.7146656923272445),\n",
       " np.float64(4.7138095311168655)]"
      ]
     },
     "execution_count": 91,
     "metadata": {},
     "output_type": "execute_result"
    }
   ],
   "execution_count": 91
  },
  {
   "metadata": {},
   "cell_type": "markdown",
   "source": "#### 最终的cost",
   "id": "58c14a2bb9bba739"
  },
  {
   "metadata": {
    "ExecuteTime": {
     "end_time": "2024-07-05T08:32:17.964684Z",
     "start_time": "2024-07-05T08:32:17.962676Z"
    }
   },
   "cell_type": "code",
   "source": "lr_cost(final_theta, X, Y)",
   "id": "7559755a9715c592",
   "outputs": [
    {
     "data": {
      "text/plain": [
       "np.float64(4.7138095311168655)"
      ]
     },
     "execution_count": 92,
     "metadata": {},
     "output_type": "execute_result"
    }
   ],
   "execution_count": 92
  }
 ],
 "metadata": {
  "kernelspec": {
   "display_name": "Python 3",
   "language": "python",
   "name": "python3"
  },
  "language_info": {
   "codemirror_mode": {
    "name": "ipython",
    "version": 2
   },
   "file_extension": ".py",
   "mimetype": "text/x-python",
   "name": "python",
   "nbconvert_exporter": "python",
   "pygments_lexer": "ipython2",
   "version": "2.7.6"
  }
 },
 "nbformat": 4,
 "nbformat_minor": 5
}
