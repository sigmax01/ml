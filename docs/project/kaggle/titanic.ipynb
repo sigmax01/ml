{
 "cells": [
  {
   "metadata": {
    "ExecuteTime": {
     "end_time": "2024-11-12T06:03:00.877484Z",
     "start_time": "2024-11-12T06:03:00.875356Z"
    }
   },
   "cell_type": "code",
   "source": [
    "import os\n",
    "import numpy as np\n",
    "import pandas as pd"
   ],
   "id": "9b5006b48662dd35",
   "outputs": [],
   "execution_count": 40
  },
  {
   "metadata": {
    "ExecuteTime": {
     "end_time": "2024-11-12T06:04:03.576761Z",
     "start_time": "2024-11-12T06:04:03.572164Z"
    }
   },
   "cell_type": "code",
   "source": [
    "# 导入数据集到相应位置, 如何设置密钥, 请见https://github.com/Kaggle/kaggle-api/blob/main/docs/README.md\n",
    "import zipfile\n",
    "from pathlib import Path\n",
    "from kaggle import KaggleApi\n",
    "def check_and_download_dataset_from_kaggle(dataset_name):\n",
    "    save_path = Path.home() / \"kaggle_data\" # 根据操作系统自动组合路径\n",
    "    save_path.mkdir(parents=True, exist_ok=True) # 确保路径存在\n",
    "    api = KaggleApi()\n",
    "    api.authenticate()\n",
    "    if \"/\" in dataset_name: # 根据是竞赛集还是用户集自动获取下载路径和函数\n",
    "        username, dataset = dataset_name.split(\"/\")\n",
    "        zip_path = save_path / f\"{dataset}.zip\"\n",
    "        extract_path = save_path / f\"{dataset}\"\n",
    "        download_func = api.dataset_download_files\n",
    "    else:\n",
    "        zip_path = save_path / f\"{dataset_name}.zip\"\n",
    "        extract_path = save_path / f\"{dataset_name}\"\n",
    "        download_func = api.competition_download_files\n",
    "    if extract_path.exists():\n",
    "        print(\"文件早就下载好了ヾ(≧▽≦*)o\")\n",
    "        pass\n",
    "    else:\n",
    "        download_func(dataset_name, path=save_path)\n",
    "        with zipfile.ZipFile(zip_path, \"r\") as f: # 解压下载的文件并删除\n",
    "            f.extractall(extract_path)\n",
    "        zip_path.unlink()\n",
    "        print(\"下载完成(●'◡'●)\")\n",
    "    return extract_path"
   ],
   "id": "ffc15358abea476c",
   "outputs": [],
   "execution_count": 45
  },
  {
   "metadata": {
    "ExecuteTime": {
     "end_time": "2024-11-12T06:04:04.156450Z",
     "start_time": "2024-11-12T06:04:04.145931Z"
    }
   },
   "cell_type": "code",
   "source": "dataset_path = check_and_download_dataset_from_kaggle(\"steve1215rogg/student-lifestyle-dataset\")",
   "id": "d380ed69ee685012",
   "outputs": [
    {
     "name": "stdout",
     "output_type": "stream",
     "text": [
      "文件早就下载好了ヾ(≧▽≦*)o\n"
     ]
    }
   ],
   "execution_count": 46
  },
  {
   "metadata": {
    "ExecuteTime": {
     "end_time": "2024-11-12T06:04:09.545714Z",
     "start_time": "2024-11-12T06:04:09.541869Z"
    }
   },
   "cell_type": "code",
   "source": [
    "# 查看目录内容\n",
    "os.listdir(dataset_path)"
   ],
   "id": "286816d7e6a7bfc7",
   "outputs": [
    {
     "data": {
      "text/plain": [
       "['student_lifestyle_dataset.csv']"
      ]
     },
     "execution_count": 48,
     "metadata": {},
     "output_type": "execute_result"
    }
   ],
   "execution_count": 48
  },
  {
   "metadata": {
    "ExecuteTime": {
     "end_time": "2024-11-12T06:07:21.773656Z",
     "start_time": "2024-11-12T06:07:21.765164Z"
    }
   },
   "cell_type": "code",
   "source": [
    "data_train_raw = pd.read_csv(dataset_path / \"student_lifestyle_dataset.csv\")\n",
    "data_train_raw.head()"
   ],
   "id": "1bcc6a24a2bffae3",
   "outputs": [
    {
     "data": {
      "text/plain": [
       "   Student_ID  Study_Hours_Per_Day  Extracurricular_Hours_Per_Day  \\\n",
       "0           1                  6.9                            3.8   \n",
       "1           2                  5.3                            3.5   \n",
       "2           3                  5.1                            3.9   \n",
       "3           4                  6.5                            2.1   \n",
       "4           5                  8.1                            0.6   \n",
       "\n",
       "   Sleep_Hours_Per_Day  Social_Hours_Per_Day  Physical_Activity_Hours_Per_Day  \\\n",
       "0                  8.7                   2.8                              1.8   \n",
       "1                  8.0                   4.2                              3.0   \n",
       "2                  9.2                   1.2                              4.6   \n",
       "3                  7.2                   1.7                              6.5   \n",
       "4                  6.5                   2.2                              6.6   \n",
       "\n",
       "    GPA Stress_Level  \n",
       "0  2.99     Moderate  \n",
       "1  2.75          Low  \n",
       "2  2.67          Low  \n",
       "3  2.88     Moderate  \n",
       "4  3.51         High  "
      ],
      "text/html": [
       "<div>\n",
       "<style scoped>\n",
       "    .dataframe tbody tr th:only-of-type {\n",
       "        vertical-align: middle;\n",
       "    }\n",
       "\n",
       "    .dataframe tbody tr th {\n",
       "        vertical-align: top;\n",
       "    }\n",
       "\n",
       "    .dataframe thead th {\n",
       "        text-align: right;\n",
       "    }\n",
       "</style>\n",
       "<table border=\"1\" class=\"dataframe\">\n",
       "  <thead>\n",
       "    <tr style=\"text-align: right;\">\n",
       "      <th></th>\n",
       "      <th>Student_ID</th>\n",
       "      <th>Study_Hours_Per_Day</th>\n",
       "      <th>Extracurricular_Hours_Per_Day</th>\n",
       "      <th>Sleep_Hours_Per_Day</th>\n",
       "      <th>Social_Hours_Per_Day</th>\n",
       "      <th>Physical_Activity_Hours_Per_Day</th>\n",
       "      <th>GPA</th>\n",
       "      <th>Stress_Level</th>\n",
       "    </tr>\n",
       "  </thead>\n",
       "  <tbody>\n",
       "    <tr>\n",
       "      <th>0</th>\n",
       "      <td>1</td>\n",
       "      <td>6.9</td>\n",
       "      <td>3.8</td>\n",
       "      <td>8.7</td>\n",
       "      <td>2.8</td>\n",
       "      <td>1.8</td>\n",
       "      <td>2.99</td>\n",
       "      <td>Moderate</td>\n",
       "    </tr>\n",
       "    <tr>\n",
       "      <th>1</th>\n",
       "      <td>2</td>\n",
       "      <td>5.3</td>\n",
       "      <td>3.5</td>\n",
       "      <td>8.0</td>\n",
       "      <td>4.2</td>\n",
       "      <td>3.0</td>\n",
       "      <td>2.75</td>\n",
       "      <td>Low</td>\n",
       "    </tr>\n",
       "    <tr>\n",
       "      <th>2</th>\n",
       "      <td>3</td>\n",
       "      <td>5.1</td>\n",
       "      <td>3.9</td>\n",
       "      <td>9.2</td>\n",
       "      <td>1.2</td>\n",
       "      <td>4.6</td>\n",
       "      <td>2.67</td>\n",
       "      <td>Low</td>\n",
       "    </tr>\n",
       "    <tr>\n",
       "      <th>3</th>\n",
       "      <td>4</td>\n",
       "      <td>6.5</td>\n",
       "      <td>2.1</td>\n",
       "      <td>7.2</td>\n",
       "      <td>1.7</td>\n",
       "      <td>6.5</td>\n",
       "      <td>2.88</td>\n",
       "      <td>Moderate</td>\n",
       "    </tr>\n",
       "    <tr>\n",
       "      <th>4</th>\n",
       "      <td>5</td>\n",
       "      <td>8.1</td>\n",
       "      <td>0.6</td>\n",
       "      <td>6.5</td>\n",
       "      <td>2.2</td>\n",
       "      <td>6.6</td>\n",
       "      <td>3.51</td>\n",
       "      <td>High</td>\n",
       "    </tr>\n",
       "  </tbody>\n",
       "</table>\n",
       "</div>"
      ]
     },
     "execution_count": 51,
     "metadata": {},
     "output_type": "execute_result"
    }
   ],
   "execution_count": 51
  }
 ],
 "metadata": {
  "kernelspec": {
   "display_name": "Python 3",
   "language": "python",
   "name": "python3"
  },
  "language_info": {
   "codemirror_mode": {
    "name": "ipython",
    "version": 2
   },
   "file_extension": ".py",
   "mimetype": "text/x-python",
   "name": "python",
   "nbconvert_exporter": "python",
   "pygments_lexer": "ipython2",
   "version": "2.7.6"
  }
 },
 "nbformat": 4,
 "nbformat_minor": 5
}
